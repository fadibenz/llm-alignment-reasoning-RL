{
 "cells": [
  {
   "cell_type": "code",
   "id": "initial_id",
   "metadata": {
    "collapsed": true,
    "ExecuteTime": {
     "end_time": "2025-08-10T16:26:01.514307Z",
     "start_time": "2025-08-10T16:25:55.509402Z"
    }
   },
   "source": [
    "from transformers import AutoTokenizer\n",
    "import torch"
   ],
   "outputs": [],
   "execution_count": 3
  },
  {
   "metadata": {
    "ExecuteTime": {
     "end_time": "2025-08-10T16:26:37.853386Z",
     "start_time": "2025-08-10T16:26:36.523134Z"
    }
   },
   "cell_type": "code",
   "source": "tokenizer = AutoTokenizer.from_pretrained(\"Qwen/Qwen2.5-Math-1.5B\")",
   "id": "a916e5c5c5ad3568",
   "outputs": [],
   "execution_count": 7
  },
  {
   "metadata": {
    "ExecuteTime": {
     "end_time": "2025-08-10T16:26:39.018728Z",
     "start_time": "2025-08-10T16:26:39.014663Z"
    }
   },
   "cell_type": "code",
   "source": [
    "prompt_strs = [\n",
    "    \"This is the first\",\n",
    "    \"This is a fun assignment\",\n",
    "    \"Internally, most modern tokenizers use PreTrainedTokenizerFast (Rust-backed, fast).\"\n",
    "]\n",
    "\n",
    "output_strs = [\n",
    "    \"time I start coding directly\",\n",
    "    \"so far.\",\n",
    "    \"This is pretty convenient\"\n",
    "]\n",
    "\n",
    "\n"
   ],
   "id": "bc9e2d3ab235a3b9",
   "outputs": [],
   "execution_count": 8
  },
  {
   "metadata": {
    "ExecuteTime": {
     "end_time": "2025-08-10T17:03:18.952410Z",
     "start_time": "2025-08-10T17:03:18.933053Z"
    }
   },
   "cell_type": "code",
   "source": [
    "prompt_strs_tokenized = tokenizer(prompt_strs, padding=True, return_tensors=\"pt\")\n",
    "mask_prompts = prompt_strs_tokenized[\"attention_mask\"]\n",
    "print(prompt_strs_tokenized[\"input_ids\"])"
   ],
   "id": "864e6df2b216f281",
   "outputs": [
    {
     "name": "stdout",
     "output_type": "stream",
     "text": [
      "tensor([[[  1986,    374,    264,  ..., 151643, 151643, 151643],\n",
      "         [  1986,    374,    264,  ..., 151643, 151643, 151643],\n",
      "         [  1986,    374,    264,  ..., 151643, 151643, 151643],\n",
      "         ...,\n",
      "         [  1986,    374,    279,  ..., 151643, 151643, 151643],\n",
      "         [  1986,    374,    279,  ..., 151643, 151643, 151643],\n",
      "         [  1986,    374,    279,  ..., 151643, 151643, 151643]],\n",
      "\n",
      "        [[  1986,    374,    264,  ..., 151643, 151643, 151643],\n",
      "         [  1986,    374,    264,  ..., 151643, 151643, 151643],\n",
      "         [  1986,    374,    264,  ..., 151643, 151643, 151643],\n",
      "         ...,\n",
      "         [  1986,    374,    279,  ..., 151643, 151643, 151643],\n",
      "         [  1986,    374,    279,  ..., 151643, 151643, 151643],\n",
      "         [  1986,    374,    279,  ..., 151643, 151643, 151643]],\n",
      "\n",
      "        [[  1986,    374,    264,  ..., 151643, 151643, 151643],\n",
      "         [  1986,    374,    264,  ..., 151643, 151643, 151643],\n",
      "         [  1986,    374,    264,  ..., 151643, 151643, 151643],\n",
      "         ...,\n",
      "         [  1986,    374,    264,  ..., 151643, 151643, 151643],\n",
      "         [  1986,    374,    264,  ..., 151643, 151643, 151643],\n",
      "         [  1986,    374,    264,  ..., 151643, 151643, 151643]]])\n"
     ]
    }
   ],
   "execution_count": 25
  },
  {
   "metadata": {
    "ExecuteTime": {
     "end_time": "2025-08-10T17:01:20.891180Z",
     "start_time": "2025-08-10T17:01:20.883569Z"
    }
   },
   "cell_type": "code",
   "source": [
    "output_strs_tokenized = tokenizer(output_strs, padding=True, return_tensors=\"pt\")\n",
    "output_strs_tokenized[\"input_ids\"]"
   ],
   "id": "2429da5d8dab4023",
   "outputs": [
    {
     "data": {
      "text/plain": [
       "tensor([[  1678,    358,   1191,  10822,   5961],\n",
       "        [   704,   3041,     13, 151643, 151643],\n",
       "        [  1986,    374,   5020,  16710, 151643]])"
      ]
     },
     "execution_count": 22,
     "metadata": {},
     "output_type": "execute_result"
    }
   ],
   "execution_count": 22
  },
  {
   "metadata": {
    "ExecuteTime": {
     "end_time": "2025-08-10T17:00:46.379005Z",
     "start_time": "2025-08-10T17:00:46.367189Z"
    }
   },
   "cell_type": "code",
   "source": [
    "\n",
    "mask_prompts = torch.where(mask_prompts == 1, torch.tensor(0), mask_prompts)\n",
    "response_mask = torch.cat((mask_prompts, output_strs_tokenized[\"attention_mask\"]), dim=-1)\n",
    "\n",
    "\n",
    "output_input_ids = output_strs_tokenized[\"input_ids\"]\n",
    "prompt_input_ids = prompt_strs_tokenized[\"input_ids\"]\n",
    "input_ids = torch.cat((prompt_input_ids, output_input_ids[:, :-1]), dim=-1)\n",
    "labels = torch.cat((prompt_input_ids[:, 1:], output_input_ids), dim=-1)\n",
    "print(\"input_ids:\", input_ids)\n",
    "print(\"\\n labels:\", labels)\n",
    "print(\"\\n response_mask:\", response_mask)"
   ],
   "id": "6f3ac04adf045dbc",
   "outputs": [
    {
     "name": "stdout",
     "output_type": "stream",
     "text": [
      "input_ids: tensor([[  1986,    374,    279,   1156, 151643, 151643, 151643, 151643, 151643,\n",
      "         151643, 151643, 151643, 151643, 151643, 151643, 151643, 151643, 151643,\n",
      "         151643, 151643,   1678,    358,   1191,  10822],\n",
      "        [  1986,    374,    264,   2464,  16319, 151643, 151643, 151643, 151643,\n",
      "         151643, 151643, 151643, 151643, 151643, 151643, 151643, 151643, 151643,\n",
      "         151643, 151643,    704,   3041,     13, 151643],\n",
      "        [ 67916,    745,     11,   1429,   6481,   3950,  12230,    990,   4968,\n",
      "           1282,   2627,  37434,  32174,    320,     49,    590,  45028,     11,\n",
      "           4937,    568,   1986,    374,   5020,  16710]])\n",
      "\n",
      " labels: tensor([[   374,    279,   1156, 151643, 151643, 151643, 151643, 151643, 151643,\n",
      "         151643, 151643, 151643, 151643, 151643, 151643, 151643, 151643, 151643,\n",
      "         151643,   1678,    358,   1191,  10822,   5961],\n",
      "        [   374,    264,   2464,  16319, 151643, 151643, 151643, 151643, 151643,\n",
      "         151643, 151643, 151643, 151643, 151643, 151643, 151643, 151643, 151643,\n",
      "         151643,    704,   3041,     13, 151643, 151643],\n",
      "        [   745,     11,   1429,   6481,   3950,  12230,    990,   4968,   1282,\n",
      "           2627,  37434,  32174,    320,     49,    590,  45028,     11,   4937,\n",
      "            568,   1986,    374,   5020,  16710, 151643]])\n",
      "\n",
      " response_mask: tensor([[0, 0, 0, 0, 0, 0, 0, 0, 0, 0, 0, 0, 0, 0, 0, 0, 0, 0, 0, 0, 1, 1, 1, 1,\n",
      "         1],\n",
      "        [0, 0, 0, 0, 0, 0, 0, 0, 0, 0, 0, 0, 0, 0, 0, 0, 0, 0, 0, 0, 1, 1, 1, 0,\n",
      "         0],\n",
      "        [0, 0, 0, 0, 0, 0, 0, 0, 0, 0, 0, 0, 0, 0, 0, 0, 0, 0, 0, 0, 1, 1, 1, 1,\n",
      "         0]])\n"
     ]
    }
   ],
   "execution_count": 20
  },
  {
   "metadata": {},
   "cell_type": "code",
   "outputs": [],
   "execution_count": null,
   "source": [
    "{\n",
    "    \"input_ids\": input_ids,\n",
    "    \"labels\": labels,\n",
    "    \"response_mask\": response_mask\n",
    "}"
   ],
   "id": "8f806f54b4dfaf60"
  },
  {
   "metadata": {
    "ExecuteTime": {
     "end_time": "2025-08-10T17:13:48.770157Z",
     "start_time": "2025-08-10T17:13:48.760555Z"
    }
   },
   "cell_type": "code",
   "source": [
    "enc_prompt = tokenizer(prompt_strs, )\n",
    "enc_output = tokenizer(output_strs)\n",
    "\n",
    "merged_input_ids = [a + b for a, b in zip(enc_prompt[\"input_ids\"], enc_output[\"input_ids\"])]\n",
    "merged_mask = [[0] * len(a) + b for a, b in zip(enc_prompt[\"attention_mask\"],enc_output[\"attention_mask\"])]\n",
    "\n",
    "print(merged_input_ids)\n",
    "merged_mask"
   ],
   "id": "4f3ff6886b0ac2e",
   "outputs": [
    {
     "name": "stdout",
     "output_type": "stream",
     "text": [
      "[[1986, 374, 279, 1156, 1678, 358, 1191, 10822, 5961], [1986, 374, 264, 2464, 16319, 704, 3041, 13], [67916, 745, 11, 1429, 6481, 3950, 12230, 990, 4968, 1282, 2627, 37434, 32174, 320, 49, 590, 45028, 11, 4937, 568, 1986, 374, 5020, 16710]]\n"
     ]
    },
    {
     "data": {
      "text/plain": [
       "[[0, 0, 0, 0, 1, 1, 1, 1, 1],\n",
       " [0, 0, 0, 0, 0, 1, 1, 1],\n",
       " [0, 0, 0, 0, 0, 0, 0, 0, 0, 0, 0, 0, 0, 0, 0, 0, 0, 0, 0, 0, 1, 1, 1, 1]]"
      ]
     },
     "execution_count": 30,
     "metadata": {},
     "output_type": "execute_result"
    }
   ],
   "execution_count": 30
  },
  {
   "metadata": {
    "ExecuteTime": {
     "end_time": "2025-08-10T17:23:41.885390Z",
     "start_time": "2025-08-10T17:23:41.878027Z"
    }
   },
   "cell_type": "code",
   "source": [
    "padded_tensor = tokenizer.pad(\n",
    "    {\"input_ids\": merged_input_ids, \"attention_mask\": merged_mask},\n",
    "    padding=True,\n",
    "    return_tensors=\"pt\"\n",
    ")\n",
    "padded_tensor"
   ],
   "id": "9285de4feaf21cd5",
   "outputs": [
    {
     "data": {
      "text/plain": [
       "{'input_ids': tensor([[  1986,    374,    279,   1156,   1678,    358,   1191,  10822,   5961,\n",
       "         151643, 151643, 151643, 151643, 151643, 151643, 151643, 151643, 151643,\n",
       "         151643, 151643, 151643, 151643, 151643, 151643],\n",
       "        [  1986,    374,    264,   2464,  16319,    704,   3041,     13, 151643,\n",
       "         151643, 151643, 151643, 151643, 151643, 151643, 151643, 151643, 151643,\n",
       "         151643, 151643, 151643, 151643, 151643, 151643],\n",
       "        [ 67916,    745,     11,   1429,   6481,   3950,  12230,    990,   4968,\n",
       "           1282,   2627,  37434,  32174,    320,     49,    590,  45028,     11,\n",
       "           4937,    568,   1986,    374,   5020,  16710]]), 'attention_mask': tensor([[1, 1, 1, 1, 1, 1, 1, 1, 1, 0, 0, 0, 0, 0, 0, 0, 0, 0, 0, 0, 0, 0, 0, 0],\n",
       "        [1, 1, 1, 1, 1, 1, 1, 1, 0, 0, 0, 0, 0, 0, 0, 0, 0, 0, 0, 0, 0, 0, 0, 0],\n",
       "        [1, 1, 1, 1, 1, 1, 1, 1, 1, 1, 1, 1, 1, 1, 1, 1, 1, 1, 1, 1, 1, 1, 1, 1]])}"
      ]
     },
     "execution_count": 38,
     "metadata": {},
     "output_type": "execute_result"
    }
   ],
   "execution_count": 38
  },
  {
   "metadata": {
    "ExecuteTime": {
     "end_time": "2025-08-10T17:29:30.124693Z",
     "start_time": "2025-08-10T17:29:30.116465Z"
    }
   },
   "cell_type": "code",
   "source": "merged_input_ids",
   "id": "70ab626d4f2db5df",
   "outputs": [
    {
     "data": {
      "text/plain": [
       "[[1986, 374, 279, 1156, 1678, 358, 1191, 10822, 5961],\n",
       " [1986, 374, 264, 2464, 16319, 704, 3041, 13],\n",
       " [67916,\n",
       "  745,\n",
       "  11,\n",
       "  1429,\n",
       "  6481,\n",
       "  3950,\n",
       "  12230,\n",
       "  990,\n",
       "  4968,\n",
       "  1282,\n",
       "  2627,\n",
       "  37434,\n",
       "  32174,\n",
       "  320,\n",
       "  49,\n",
       "  590,\n",
       "  45028,\n",
       "  11,\n",
       "  4937,\n",
       "  568,\n",
       "  1986,\n",
       "  374,\n",
       "  5020,\n",
       "  16710]]"
      ]
     },
     "execution_count": 39,
     "metadata": {},
     "output_type": "execute_result"
    }
   ],
   "execution_count": 39
  },
  {
   "metadata": {
    "ExecuteTime": {
     "end_time": "2025-08-10T17:29:43.128772Z",
     "start_time": "2025-08-10T17:29:43.121199Z"
    }
   },
   "cell_type": "code",
   "source": "merged_input_ids[0][:-1]",
   "id": "b69043593d45c142",
   "outputs": [
    {
     "data": {
      "text/plain": [
       "[1986, 374, 279, 1156, 1678, 358, 1191, 10822]"
      ]
     },
     "execution_count": 40,
     "metadata": {},
     "output_type": "execute_result"
    }
   ],
   "execution_count": 40
  },
  {
   "metadata": {},
   "cell_type": "code",
   "outputs": [],
   "execution_count": null,
   "source": "",
   "id": "b75b6229235a7859"
  }
 ],
 "metadata": {
  "kernelspec": {
   "display_name": "Python 3",
   "language": "python",
   "name": "python3"
  },
  "language_info": {
   "codemirror_mode": {
    "name": "ipython",
    "version": 2
   },
   "file_extension": ".py",
   "mimetype": "text/x-python",
   "name": "python",
   "nbconvert_exporter": "python",
   "pygments_lexer": "ipython2",
   "version": "2.7.6"
  }
 },
 "nbformat": 4,
 "nbformat_minor": 5
}
